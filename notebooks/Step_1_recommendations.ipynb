{
 "cells": [
  {
   "cell_type": "code",
   "execution_count": 1,
   "metadata": {
    "collapsed": true,
    "ExecuteTime": {
     "end_time": "2023-10-23T12:03:33.812401Z",
     "start_time": "2023-10-23T12:03:33.811208Z"
    }
   },
   "outputs": [],
   "source": [
    "import pandas as pd\n",
    "import numpy as np\n",
    "import seaborn as sns\n",
    "from pathlib import Path\n",
    "import os"
   ]
  },
  {
   "cell_type": "code",
   "execution_count": 2,
   "outputs": [],
   "source": [
    "sns.set_style('white')"
   ],
   "metadata": {
    "collapsed": false,
    "ExecuteTime": {
     "end_time": "2023-10-23T12:03:33.816249Z",
     "start_time": "2023-10-23T12:03:33.813766Z"
    }
   }
  },
  {
   "cell_type": "code",
   "execution_count": 3,
   "outputs": [],
   "source": [
    "DATA_SOURCE = './data'\n",
    "DATA_TYPE = 'recommendations'"
   ],
   "metadata": {
    "collapsed": false,
    "ExecuteTime": {
     "end_time": "2023-10-23T12:03:33.817450Z",
     "start_time": "2023-10-23T12:03:33.815466Z"
    }
   }
  },
  {
   "cell_type": "code",
   "execution_count": 4,
   "outputs": [
    {
     "data": {
      "text/plain": "PosixPath('../data/recommendations')"
     },
     "execution_count": 4,
     "metadata": {},
     "output_type": "execute_result"
    }
   ],
   "source": [
    "DATA_PATH = Path(f'../{DATA_SOURCE}/{DATA_TYPE}')\n",
    "DATA_PATH"
   ],
   "metadata": {
    "collapsed": false,
    "ExecuteTime": {
     "end_time": "2023-10-23T12:03:33.821642Z",
     "start_time": "2023-10-23T12:03:33.819671Z"
    }
   }
  },
  {
   "cell_type": "code",
   "execution_count": 5,
   "outputs": [
    {
     "name": "stderr",
     "output_type": "stream",
     "text": [
      "/var/folders/nz/g6pchq3j0k1cyfvxg0_ld34c0000gp/T/ipykernel_96863/2844973500.py:1: DtypeWarning: Columns (61,62,94,95) have mixed types. Specify dtype option on import or set low_memory=False.\n",
      "  listings_df = pd.read_csv(DATA_PATH/'listings.csv')\n"
     ]
    }
   ],
   "source": [
    "listings_df = pd.read_csv(DATA_PATH/'listings.csv')\n",
    "# listings_summary_df = pd.read_csv(DATA_PATH/'listings_summary.csv')\n",
    "# neighbourhoods_df = pd.read_csv(DATA_PATH/'neighbourhoods.csv')\n",
    "reviews_df = pd.read_csv(DATA_PATH/'reviews.csv')\n",
    "# reviews_summary_df = pd.read_csv(DATA_PATH/'reviews_summary.csv')"
   ],
   "metadata": {
    "collapsed": false,
    "ExecuteTime": {
     "end_time": "2023-10-23T12:03:40.501688Z",
     "start_time": "2023-10-23T12:03:33.822656Z"
    }
   }
  },
  {
   "cell_type": "raw",
   "source": [
    "From what I saw\n",
    "\n",
    "- There is a reviews summary sections about listing_ids by various people. The reviews are in english so we can catch some sentiments about it or probabilistic values\n",
    "- The listing ids have some feature attributes that describe about the list ids. Idea is to generate similar vectors that match with other listings\n",
    "- Based on positive or negative segments we can group listings and can recommend listings that look similar\n",
    "- If there is a possibility to create user embeddings, then we can use similarity coefficient to find out others choices and recommend those\n",
    "- Test train validation set to see what was finally chosen vs what was predicted. May be top k recall as the metric\n"
   ],
   "metadata": {
    "collapsed": false,
    "ExecuteTime": {
     "end_time": "2023-10-04T13:34:52.653819Z",
     "start_time": "2023-10-04T13:34:52.571196Z"
    }
   },
   "outputs": [],
   "execution_count": 5
  },
  {
   "cell_type": "code",
   "execution_count": 6,
   "outputs": [
    {
     "data": {
      "text/plain": "id                                              0.000000\nlisting_url                                     0.000000\nscrape_id                                       0.000000\nlast_scraped                                    0.000000\nname                                            0.000294\n                                                  ...   \ncalculated_host_listings_count                  0.000000\ncalculated_host_listings_count_entire_homes     0.000000\ncalculated_host_listings_count_private_rooms    0.000000\ncalculated_host_listings_count_shared_rooms     0.000000\nreviews_per_month                               0.235177\nLength: 106, dtype: float64"
     },
     "execution_count": 6,
     "metadata": {},
     "output_type": "execute_result"
    }
   ],
   "source": [
    "listings_null_percentage = listings_df.isna().sum()/listings_df.shape[0]\n",
    "listings_null_percentage"
   ],
   "metadata": {
    "collapsed": false,
    "ExecuteTime": {
     "end_time": "2023-10-23T12:03:40.865128Z",
     "start_time": "2023-10-23T12:03:40.504738Z"
    }
   }
  },
  {
   "cell_type": "code",
   "execution_count": 7,
   "outputs": [
    {
     "data": {
      "text/plain": "<Axes: >"
     },
     "execution_count": 7,
     "metadata": {},
     "output_type": "execute_result"
    },
    {
     "data": {
      "text/plain": "<Figure size 640x480 with 1 Axes>",
      "image/png": "[encoded data removed]"
     },
     "metadata": {},
     "output_type": "display_data"
    }
   ],
   "source": [
    "listings_null_percentage.hist()"
   ],
   "metadata": {
    "collapsed": false,
    "ExecuteTime": {
     "end_time": "2023-10-23T12:03:40.985835Z",
     "start_time": "2023-10-23T12:03:40.848361Z"
    }
   }
  },
  {
   "cell_type": "markdown",
   "source": [
    "### Initial idea of exploration and selecting features that felt relevant to be used. However these features can be used as embeddings or vectors for similarity matching. The approach that I took need not require them at this stage, but with time we can evolve and convert them into vectors for item-item recommendation"
   ],
   "metadata": {
    "collapsed": false
   }
  },
  {
   "cell_type": "code",
   "execution_count": 8,
   "outputs": [],
   "source": [
    "listing_cols_to_drop = listings_null_percentage[listings_null_percentage>0.35].index.to_list() + \\\n",
    "                        [col for col in listings_df.columns if str(col).find('url') != -1] + \\\n",
    "                        [col for col in listings_df.columns if str(col).find('name')!=-1] + \\\n",
    "                        [col for col in listings_df.columns if col.find('minimum') !=-1 or col.find('maximum') !=-1][2:] + \\\n",
    "                        ['calendar_last_scraped', 'street', 'neighbourhood_cleansed', 'city' , 'state', 'zipcode', 'market', 'smart_location', 'country_code',\n",
    "                         'country', 'scrape_id', 'summary']"
   ],
   "metadata": {
    "collapsed": false,
    "ExecuteTime": {
     "end_time": "2023-10-23T12:03:40.989678Z",
     "start_time": "2023-10-23T12:03:40.987895Z"
    }
   }
  },
  {
   "cell_type": "code",
   "execution_count": 62,
   "outputs": [
    {
     "data": {
      "text/plain": "['neighborhood_overview',\n 'notes',\n 'transit',\n 'access',\n 'interaction',\n 'house_rules',\n 'thumbnail_url',\n 'medium_url',\n 'xl_picture_url',\n 'host_about',\n 'host_acceptance_rate',\n 'neighbourhood_group_cleansed',\n 'square_feet',\n 'weekly_price',\n 'monthly_price',\n 'license',\n 'jurisdiction_names',\n 'listing_url',\n 'thumbnail_url',\n 'medium_url',\n 'picture_url',\n 'xl_picture_url',\n 'host_url',\n 'host_thumbnail_url',\n 'host_picture_url',\n 'name',\n 'host_name',\n 'jurisdiction_names',\n 'minimum_minimum_nights',\n 'maximum_minimum_nights',\n 'minimum_maximum_nights',\n 'maximum_maximum_nights',\n 'minimum_nights_avg_ntm',\n 'maximum_nights_avg_ntm',\n 'calendar_last_scraped',\n 'street',\n 'neighbourhood_cleansed',\n 'city',\n 'state',\n 'zipcode',\n 'market',\n 'smart_location',\n 'country_code',\n 'country',\n 'scrape_id',\n 'summary']"
     },
     "execution_count": 62,
     "metadata": {},
     "output_type": "execute_result"
    }
   ],
   "source": [
    "listings_df.drop(columns=listing_cols_to_drop, inplace=True)"
   ],
   "metadata": {
    "collapsed": false,
    "ExecuteTime": {
     "end_time": "2023-10-23T12:43:45.314127Z",
     "start_time": "2023-10-23T12:43:45.280713Z"
    }
   }
  },
  {
   "cell_type": "code",
   "execution_count": 10,
   "outputs": [],
   "source": [
    "reviews_df['date'] = pd.to_datetime(reviews_df['date'])\n",
    "\n",
    "listings_df['host_since'] = pd.to_datetime(listings_df['host_since'])\n",
    "listings_df['last_scraped'] = pd.to_datetime(listings_df['last_scraped'])\n",
    "\n",
    "listings_df['first_review'] = pd.to_datetime(listings_df['first_review'])\n",
    "listings_df['last_review'] = pd.to_datetime(listings_df['last_review'])\n"
   ],
   "metadata": {
    "collapsed": false,
    "ExecuteTime": {
     "end_time": "2023-10-23T12:03:41.300746Z",
     "start_time": "2023-10-23T12:03:41.037281Z"
    }
   }
  },
  {
   "cell_type": "code",
   "execution_count": 11,
   "outputs": [],
   "source": [
    "def convert_price(df_col):\n",
    "    return df_col.str.replace('$','').str.replace('.','').str.replace(',','').astype(float)/100"
   ],
   "metadata": {
    "collapsed": false,
    "ExecuteTime": {
     "end_time": "2023-10-23T12:03:41.302832Z",
     "start_time": "2023-10-23T12:03:41.299498Z"
    }
   }
  },
  {
   "cell_type": "code",
   "execution_count": 12,
   "outputs": [
    {
     "name": "stderr",
     "output_type": "stream",
     "text": [
      "/var/folders/nz/g6pchq3j0k1cyfvxg0_ld34c0000gp/T/ipykernel_96863/2767996772.py:2: FutureWarning: The default value of regex will change from True to False in a future version. In addition, single character regular expressions will *not* be treated as literal strings when regex=True.\n",
      "  return df_col.str.replace('$','').str.replace('.','').str.replace(',','').astype(float)/100\n"
     ]
    }
   ],
   "source": [
    "price_cols = ['price','extra_people']\n",
    "for col in price_cols:\n",
    "    listings_df[col] = convert_price(listings_df[col])"
   ],
   "metadata": {
    "collapsed": false,
    "ExecuteTime": {
     "end_time": "2023-10-23T12:03:41.428811Z",
     "start_time": "2023-10-23T12:03:41.314725Z"
    }
   }
  },
  {
   "cell_type": "code",
   "execution_count": 13,
   "outputs": [],
   "source": [
    "def to_boolean(df_col):\n",
    "    return df_col.replace({'f':0,'t':1}).astype('boolean')"
   ],
   "metadata": {
    "collapsed": false,
    "ExecuteTime": {
     "end_time": "2023-10-23T12:03:41.441762Z",
     "start_time": "2023-10-23T12:03:41.435143Z"
    }
   }
  },
  {
   "cell_type": "code",
   "execution_count": 14,
   "outputs": [],
   "source": [
    "bool_cols = ['host_is_superhost','host_has_profile_pic', 'host_identity_verified', 'is_location_exact','has_availability','requires_license','instant_bookable',\n",
    "             'is_business_travel_ready','require_guest_profile_picture','require_guest_phone_verification']\n",
    "\n",
    "for col in bool_cols:\n",
    "    listings_df[col] = to_boolean(listings_df[col])"
   ],
   "metadata": {
    "collapsed": false,
    "ExecuteTime": {
     "end_time": "2023-10-23T12:03:41.749613Z",
     "start_time": "2023-10-23T12:03:41.440908Z"
    }
   }
  },
  {
   "cell_type": "code",
   "execution_count": 15,
   "outputs": [],
   "source": [
    "rate_cols = [col for col in listings_df.columns if col.find('rate')!= -1]"
   ],
   "metadata": {
    "collapsed": false,
    "ExecuteTime": {
     "end_time": "2023-10-23T12:03:41.754409Z",
     "start_time": "2023-10-23T12:03:41.751610Z"
    }
   }
  },
  {
   "cell_type": "code",
   "execution_count": 16,
   "outputs": [],
   "source": [
    "# TODO : handle situation when more than one\n",
    "if len(rate_cols)==1:\n",
    "    rate_cols = rate_cols[0]"
   ],
   "metadata": {
    "collapsed": false,
    "ExecuteTime": {
     "end_time": "2023-10-23T12:03:41.758428Z",
     "start_time": "2023-10-23T12:03:41.755710Z"
    }
   }
  },
  {
   "cell_type": "code",
   "execution_count": 17,
   "outputs": [],
   "source": [
    "listings_df[rate_cols] = listings_df[rate_cols].replace(np.nan, '-1%').str.replace('%','').astype('float')\n"
   ],
   "metadata": {
    "collapsed": false,
    "ExecuteTime": {
     "end_time": "2023-10-23T12:03:41.797025Z",
     "start_time": "2023-10-23T12:03:41.758739Z"
    }
   }
  },
  {
   "cell_type": "code",
   "execution_count": 18,
   "outputs": [],
   "source": [
    "#TODO: more work to do on the listings dataframe. lets look at review dataframe now"
   ],
   "metadata": {
    "collapsed": false,
    "ExecuteTime": {
     "end_time": "2023-10-23T12:03:41.801707Z",
     "start_time": "2023-10-23T12:03:41.798929Z"
    }
   }
  },
  {
   "cell_type": "markdown",
   "source": [
    "### What I did above was mostly exploring and preparing the listings dataset, which can be of importance based on approaches taken"
   ],
   "metadata": {
    "collapsed": false
   }
  },
  {
   "cell_type": "markdown",
   "source": [
    "### Looking at the reviews_df. It can be seen that users have reviews placed. These are implicit ratings and the approach is to find a score for these comments"
   ],
   "metadata": {
    "collapsed": false
   }
  },
  {
   "cell_type": "code",
   "execution_count": 19,
   "outputs": [],
   "source": [
    "reviews_df.rename(columns={'date':'review_date'}, inplace=True)"
   ],
   "metadata": {
    "collapsed": false,
    "ExecuteTime": {
     "end_time": "2023-10-23T12:03:41.807751Z",
     "start_time": "2023-10-23T12:03:41.803588Z"
    }
   }
  },
  {
   "cell_type": "code",
   "execution_count": 20,
   "outputs": [
    {
     "data": {
      "text/plain": "         listing_id         id review_date  reviewer_id reviewer_name  \\\n0             11551      30672  2010-03-21        93896      Shar-Lyn   \n1             11551      32236  2010-03-29        97890          Zane   \n2             90700     337227  2011-06-27       311071         Miqua   \n3             90700     378738  2011-07-17       224367       Prateek   \n4             90700     543840  2011-09-18      1115024      Jennifer   \n...             ...        ...         ...          ...           ...   \n1486231    39740287  559509688  2019-11-04    182032644        Isabel   \n1486232    22701498  558667202  2019-11-03     65955902       Shereen   \n1486233    38398365  552239161  2019-10-21     60436496     Chee Ling   \n1486234    38398365  559541617  2019-11-04     97684167       Carolyn   \n1486235    39836317  559576331  2019-11-04     52497809       Aniello   \n\n                                                  comments  \n0        The flat was bright, comfortable and clean and...  \n1        We stayed with Adriano and Valerio for a week ...  \n2        it was all in all the perfect week!\\r\\nchilton...  \n3        I'll start with the host, and then move on to ...  \n4        Great location. Plenty to do just steps outsid...  \n...                                                    ...  \n1486231         A very good stay, I would repeat for sure.  \n1486232  Set in a lovely development with onsite bar, c...  \n1486233  (Website hidden by Airbnb) a.best owner and ge...  \n1486234  This flat is perfection! Everything you need i...  \n1486235  You can expect to be staying is a very nice lo...  \n\n[1486236 rows x 6 columns]",
      "text/html": "<div>\n<style scoped>\n    .dataframe tbody tr th:only-of-type {\n        vertical-align: middle;\n    }\n\n    .dataframe tbody tr th {\n        vertical-align: top;\n    }\n\n    .dataframe thead th {\n        text-align: right;\n    }\n</style>\n<table border=\"1\" class=\"dataframe\">\n  <thead>\n    <tr style=\"text-align: right;\">\n      <th></th>\n      <th>listing_id</th>\n      <th>id</th>\n      <th>review_date</th>\n      <th>reviewer_id</th>\n      <th>reviewer_name</th>\n      <th>comments</th>\n    </tr>\n  </thead>\n  <tbody>\n    <tr>\n      <th>0</th>\n      <td>11551</td>\n      <td>30672</td>\n      <td>2010-03-21</td>\n      <td>93896</td>\n      <td>Shar-Lyn</td>\n      <td>The flat was bright, comfortable and clean and...</td>\n    </tr>\n    <tr>\n      <th>1</th>\n      <td>11551</td>\n      <td>32236</td>\n      <td>2010-03-29</td>\n      <td>97890</td>\n      <td>Zane</td>\n      <td>We stayed with Adriano and Valerio for a week ...</td>\n    </tr>\n    <tr>\n      <th>2</th>\n      <td>90700</td>\n      <td>337227</td>\n      <td>2011-06-27</td>\n      <td>311071</td>\n      <td>Miqua</td>\n      <td>it was all in all the perfect week!\\r\\nchilton...</td>\n    </tr>\n    <tr>\n      <th>3</th>\n      <td>90700</td>\n      <td>378738</td>\n      <td>2011-07-17</td>\n      <td>224367</td>\n      <td>Prateek</td>\n      <td>I'll start with the host, and then move on to ...</td>\n    </tr>\n    <tr>\n      <th>4</th>\n      <td>90700</td>\n      <td>543840</td>\n      <td>2011-09-18</td>\n      <td>1115024</td>\n      <td>Jennifer</td>\n      <td>Great location. Plenty to do just steps outsid...</td>\n    </tr>\n    <tr>\n      <th>...</th>\n      <td>...</td>\n      <td>...</td>\n      <td>...</td>\n      <td>...</td>\n      <td>...</td>\n      <td>...</td>\n    </tr>\n    <tr>\n      <th>1486231</th>\n      <td>39740287</td>\n      <td>559509688</td>\n      <td>2019-11-04</td>\n      <td>182032644</td>\n      <td>Isabel</td>\n      <td>A very good stay, I would repeat for sure.</td>\n    </tr>\n    <tr>\n      <th>1486232</th>\n      <td>22701498</td>\n      <td>558667202</td>\n      <td>2019-11-03</td>\n      <td>65955902</td>\n      <td>Shereen</td>\n      <td>Set in a lovely development with onsite bar, c...</td>\n    </tr>\n    <tr>\n      <th>1486233</th>\n      <td>38398365</td>\n      <td>552239161</td>\n      <td>2019-10-21</td>\n      <td>60436496</td>\n      <td>Chee Ling</td>\n      <td>(Website hidden by Airbnb) a.best owner and ge...</td>\n    </tr>\n    <tr>\n      <th>1486234</th>\n      <td>38398365</td>\n      <td>559541617</td>\n      <td>2019-11-04</td>\n      <td>97684167</td>\n      <td>Carolyn</td>\n      <td>This flat is perfection! Everything you need i...</td>\n    </tr>\n    <tr>\n      <th>1486235</th>\n      <td>39836317</td>\n      <td>559576331</td>\n      <td>2019-11-04</td>\n      <td>52497809</td>\n      <td>Aniello</td>\n      <td>You can expect to be staying is a very nice lo...</td>\n    </tr>\n  </tbody>\n</table>\n<p>1486236 rows × 6 columns</p>\n</div>"
     },
     "execution_count": 20,
     "metadata": {},
     "output_type": "execute_result"
    }
   ],
   "source": [
    "reviews_df"
   ],
   "metadata": {
    "collapsed": false,
    "ExecuteTime": {
     "end_time": "2023-10-23T12:03:41.825335Z",
     "start_time": "2023-10-23T12:03:41.814151Z"
    }
   }
  },
  {
   "cell_type": "code",
   "execution_count": 21,
   "outputs": [],
   "source": [
    "combined_df = pd.merge(listings_df,reviews_df,left_on='id', right_on='listing_id',how='left')"
   ],
   "metadata": {
    "collapsed": false,
    "ExecuteTime": {
     "end_time": "2023-10-23T12:03:43.050238Z",
     "start_time": "2023-10-23T12:03:41.818854Z"
    }
   }
  },
  {
   "cell_type": "markdown",
   "source": [
    "### I approached a collaborative filtering based on the weights proposed by the sentiments, since we have a lot of users and listings, and pre processing would take time, I shortlisted the listings with major feedback to ensure we remove sparsity of the matrix, Of course these would lead to cold-start problems, however the idea was to recommend for returning users"
   ],
   "metadata": {
    "collapsed": false
   }
  },
  {
   "cell_type": "code",
   "execution_count": 22,
   "outputs": [],
   "source": [
    "top_150 = combined_df.groupby('listing_id').comments.count().sort_values(ascending=False).head(400)"
   ],
   "metadata": {
    "collapsed": false,
    "ExecuteTime": {
     "end_time": "2023-10-23T12:03:43.237436Z",
     "start_time": "2023-10-23T12:03:43.054410Z"
    }
   }
  },
  {
   "cell_type": "code",
   "execution_count": 23,
   "outputs": [
    {
     "data": {
      "text/plain": "             id_x last_scraped  \\\n342         90700   2019-11-06   \n343         90700   2019-11-06   \n344         90700   2019-11-06   \n345         90700   2019-11-06   \n346         90700   2019-11-06   \n...           ...          ...   \n1146436  23158183   2019-11-06   \n1146437  23158183   2019-11-06   \n1146438  23158183   2019-11-06   \n1146439  23158183   2019-11-06   \n1146440  23158183   2019-11-06   \n\n                                                     space  \\\n342      This charming 1 bedroom with en-suite bathroom...   \n343      This charming 1 bedroom with en-suite bathroom...   \n344      This charming 1 bedroom with en-suite bathroom...   \n345      This charming 1 bedroom with en-suite bathroom...   \n346      This charming 1 bedroom with en-suite bathroom...   \n...                                                    ...   \n1146436  The space Situated in the basement with plenty...   \n1146437  The space Situated in the basement with plenty...   \n1146438  The space Situated in the basement with plenty...   \n1146439  The space Situated in the basement with plenty...   \n1146440  The space Situated in the basement with plenty...   \n\n                                               description  \\\n342      This is a home not a hotel - for the cost gues...   \n343      This is a home not a hotel - for the cost gues...   \n344      This is a home not a hotel - for the cost gues...   \n345      This is a home not a hotel - for the cost gues...   \n346      This is a home not a hotel - for the cost gues...   \n...                                                    ...   \n1146436  My Place is situated in the Belgravia area in ...   \n1146437  My Place is situated in the Belgravia area in ...   \n1146438  My Place is situated in the Belgravia area in ...   \n1146439  My Place is situated in the Belgravia area in ...   \n1146440  My Place is situated in the Belgravia area in ...   \n\n        experiences_offered    host_id host_since  \\\n342                    none     491286 2011-04-07   \n343                    none     491286 2011-04-07   \n344                    none     491286 2011-04-07   \n345                    none     491286 2011-04-07   \n346                    none     491286 2011-04-07   \n...                     ...        ...        ...   \n1146436                none  172140241 2018-02-07   \n1146437                none  172140241 2018-02-07   \n1146438                none  172140241 2018-02-07   \n1146439                none  172140241 2018-02-07   \n1146440                none  172140241 2018-02-07   \n\n                           host_location host_response_time  \\\n342      London, England, United Kingdom       within a day   \n343      London, England, United Kingdom       within a day   \n344      London, England, United Kingdom       within a day   \n345      London, England, United Kingdom       within a day   \n346      London, England, United Kingdom       within a day   \n...                                  ...                ...   \n1146436                               GB     within an hour   \n1146437                               GB     within an hour   \n1146438                               GB     within an hour   \n1146439                               GB     within an hour   \n1146440                               GB     within an hour   \n\n         host_response_rate  ...  calculated_host_listings_count_entire_homes  \\\n342                    86.0  ...                                            2   \n343                    86.0  ...                                            2   \n344                    86.0  ...                                            2   \n345                    86.0  ...                                            2   \n346                    86.0  ...                                            2   \n...                     ...  ...                                          ...   \n1146436               100.0  ...                                            0   \n1146437               100.0  ...                                            0   \n1146438               100.0  ...                                            0   \n1146439               100.0  ...                                            0   \n1146440               100.0  ...                                            0   \n\n        calculated_host_listings_count_private_rooms  \\\n342                                                0   \n343                                                0   \n344                                                0   \n345                                                0   \n346                                                0   \n...                                              ...   \n1146436                                            2   \n1146437                                            2   \n1146438                                            2   \n1146439                                            2   \n1146440                                            2   \n\n         calculated_host_listings_count_shared_rooms  reviews_per_month  \\\n342                                                0               3.33   \n343                                                0               3.33   \n344                                                0               3.33   \n345                                                0               3.33   \n346                                                0               3.33   \n...                                              ...                ...   \n1146436                                            0              11.50   \n1146437                                            0              11.50   \n1146438                                            0              11.50   \n1146439                                            0              11.50   \n1146440                                            0              11.50   \n\n         listing_id         id_y  review_date  reviewer_id  reviewer_name  \\\n342         90700.0     337227.0   2011-06-27     311071.0          Miqua   \n343         90700.0     378738.0   2011-07-17     224367.0        Prateek   \n344         90700.0     543840.0   2011-09-18    1115024.0       Jennifer   \n345         90700.0     563397.0   2011-09-24     991486.0       Michelle   \n346         90700.0     579511.0   2011-09-28    1181648.0        Michael   \n...             ...          ...          ...          ...            ...   \n1146436  23158183.0  555215135.0   2019-10-27   25804328.0          Hywel   \n1146437  23158183.0  555950330.0   2019-10-28   59831259.0             So   \n1146438  23158183.0  556761725.0   2019-10-30   86102616.0           Alex   \n1146439  23158183.0  557566331.0   2019-11-01  150278380.0       Ludivine   \n1146440  23158183.0  559535993.0   2019-11-04  220919566.0            Sam   \n\n                                                  comments  \n342      it was all in all the perfect week!\\r\\nchilton...  \n343      I'll start with the host, and then move on to ...  \n344      Great location. Plenty to do just steps outsid...  \n345      Great location, perfect place and size for my ...  \n346      Highly recommended.  Perfect location -- aroun...  \n...                                                    ...  \n1146436        A very affordable place in a good location.  \n1146437  地點非常方便,走路去大笨鐘20分鐘,還可以存放行李｡\\n房間小但有電視小洗手盆風扇,我們入住...  \n1146438  Great location! Small room but perfect for pri...  \n1146439  Pour le rapport qualité prix il ne faut pas s’...  \n1146440                                    Awsome location  \n\n[127060 rows x 70 columns]",
      "text/html": "<div>\n<style scoped>\n    .dataframe tbody tr th:only-of-type {\n        vertical-align: middle;\n    }\n\n    .dataframe tbody tr th {\n        vertical-align: top;\n    }\n\n    .dataframe thead th {\n        text-align: right;\n    }\n</style>\n<table border=\"1\" class=\"dataframe\">\n  <thead>\n    <tr style=\"text-align: right;\">\n      <th></th>\n      <th>id_x</th>\n      <th>last_scraped</th>\n      <th>space</th>\n      <th>description</th>\n      <th>experiences_offered</th>\n      <th>host_id</th>\n      <th>host_since</th>\n      <th>host_location</th>\n      <th>host_response_time</th>\n      <th>host_response_rate</th>\n      <th>...</th>\n      <th>calculated_host_listings_count_entire_homes</th>\n      <th>calculated_host_listings_count_private_rooms</th>\n      <th>calculated_host_listings_count_shared_rooms</th>\n      <th>reviews_per_month</th>\n      <th>listing_id</th>\n      <th>id_y</th>\n      <th>review_date</th>\n      <th>reviewer_id</th>\n      <th>reviewer_name</th>\n      <th>comments</th>\n    </tr>\n  </thead>\n  <tbody>\n    <tr>\n      <th>342</th>\n      <td>90700</td>\n      <td>2019-11-06</td>\n      <td>This charming 1 bedroom with en-suite bathroom...</td>\n      <td>This is a home not a hotel - for the cost gues...</td>\n      <td>none</td>\n      <td>491286</td>\n      <td>2011-04-07</td>\n      <td>London, England, United Kingdom</td>\n      <td>within a day</td>\n      <td>86.0</td>\n      <td>...</td>\n      <td>2</td>\n      <td>0</td>\n      <td>0</td>\n      <td>3.33</td>\n      <td>90700.0</td>\n      <td>337227.0</td>\n      <td>2011-06-27</td>\n      <td>311071.0</td>\n      <td>Miqua</td>\n      <td>it was all in all the perfect week!\\r\\nchilton...</td>\n    </tr>\n    <tr>\n      <th>343</th>\n      <td>90700</td>\n      <td>2019-11-06</td>\n      <td>This charming 1 bedroom with en-suite bathroom...</td>\n      <td>This is a home not a hotel - for the cost gues...</td>\n      <td>none</td>\n      <td>491286</td>\n      <td>2011-04-07</td>\n      <td>London, England, United Kingdom</td>\n      <td>within a day</td>\n      <td>86.0</td>\n      <td>...</td>\n      <td>2</td>\n      <td>0</td>\n      <td>0</td>\n      <td>3.33</td>\n      <td>90700.0</td>\n      <td>378738.0</td>\n      <td>2011-07-17</td>\n      <td>224367.0</td>\n      <td>Prateek</td>\n      <td>I'll start with the host, and then move on to ...</td>\n    </tr>\n    <tr>\n      <th>344</th>\n      <td>90700</td>\n      <td>2019-11-06</td>\n      <td>This charming 1 bedroom with en-suite bathroom...</td>\n      <td>This is a home not a hotel - for the cost gues...</td>\n      <td>none</td>\n      <td>491286</td>\n      <td>2011-04-07</td>\n      <td>London, England, United Kingdom</td>\n      <td>within a day</td>\n      <td>86.0</td>\n      <td>...</td>\n      <td>2</td>\n      <td>0</td>\n      <td>0</td>\n      <td>3.33</td>\n      <td>90700.0</td>\n      <td>543840.0</td>\n      <td>2011-09-18</td>\n      <td>1115024.0</td>\n      <td>Jennifer</td>\n      <td>Great location. Plenty to do just steps outsid...</td>\n    </tr>\n    <tr>\n      <th>345</th>\n      <td>90700</td>\n      <td>2019-11-06</td>\n      <td>This charming 1 bedroom with en-suite bathroom...</td>\n      <td>This is a home not a hotel - for the cost gues...</td>\n      <td>none</td>\n      <td>491286</td>\n      <td>2011-04-07</td>\n      <td>London, England, United Kingdom</td>\n      <td>within a day</td>\n      <td>86.0</td>\n      <td>...</td>\n      <td>2</td>\n      <td>0</td>\n      <td>0</td>\n      <td>3.33</td>\n      <td>90700.0</td>\n      <td>563397.0</td>\n      <td>2011-09-24</td>\n      <td>991486.0</td>\n      <td>Michelle</td>\n      <td>Great location, perfect place and size for my ...</td>\n    </tr>\n    <tr>\n      <th>346</th>\n      <td>90700</td>\n      <td>2019-11-06</td>\n      <td>This charming 1 bedroom with en-suite bathroom...</td>\n      <td>This is a home not a hotel - for the cost gues...</td>\n      <td>none</td>\n      <td>491286</td>\n      <td>2011-04-07</td>\n      <td>London, England, United Kingdom</td>\n      <td>within a day</td>\n      <td>86.0</td>\n      <td>...</td>\n      <td>2</td>\n      <td>0</td>\n      <td>0</td>\n      <td>3.33</td>\n      <td>90700.0</td>\n      <td>579511.0</td>\n      <td>2011-09-28</td>\n      <td>1181648.0</td>\n      <td>Michael</td>\n      <td>Highly recommended.  Perfect location -- aroun...</td>\n    </tr>\n    <tr>\n      <th>...</th>\n      <td>...</td>\n      <td>...</td>\n      <td>...</td>\n      <td>...</td>\n      <td>...</td>\n      <td>...</td>\n      <td>...</td>\n      <td>...</td>\n      <td>...</td>\n      <td>...</td>\n      <td>...</td>\n      <td>...</td>\n      <td>...</td>\n      <td>...</td>\n      <td>...</td>\n      <td>...</td>\n      <td>...</td>\n      <td>...</td>\n      <td>...</td>\n      <td>...</td>\n      <td>...</td>\n    </tr>\n    <tr>\n      <th>1146436</th>\n      <td>23158183</td>\n      <td>2019-11-06</td>\n      <td>The space Situated in the basement with plenty...</td>\n      <td>My Place is situated in the Belgravia area in ...</td>\n      <td>none</td>\n      <td>172140241</td>\n      <td>2018-02-07</td>\n      <td>GB</td>\n      <td>within an hour</td>\n      <td>100.0</td>\n      <td>...</td>\n      <td>0</td>\n      <td>2</td>\n      <td>0</td>\n      <td>11.50</td>\n      <td>23158183.0</td>\n      <td>555215135.0</td>\n      <td>2019-10-27</td>\n      <td>25804328.0</td>\n      <td>Hywel</td>\n      <td>A very affordable place in a good location.</td>\n    </tr>\n    <tr>\n      <th>1146437</th>\n      <td>23158183</td>\n      <td>2019-11-06</td>\n      <td>The space Situated in the basement with plenty...</td>\n      <td>My Place is situated in the Belgravia area in ...</td>\n      <td>none</td>\n      <td>172140241</td>\n      <td>2018-02-07</td>\n      <td>GB</td>\n      <td>within an hour</td>\n      <td>100.0</td>\n      <td>...</td>\n      <td>0</td>\n      <td>2</td>\n      <td>0</td>\n      <td>11.50</td>\n      <td>23158183.0</td>\n      <td>555950330.0</td>\n      <td>2019-10-28</td>\n      <td>59831259.0</td>\n      <td>So</td>\n      <td>地點非常方便,走路去大笨鐘20分鐘,還可以存放行李｡\\n房間小但有電視小洗手盆風扇,我們入住...</td>\n    </tr>\n    <tr>\n      <th>1146438</th>\n      <td>23158183</td>\n      <td>2019-11-06</td>\n      <td>The space Situated in the basement with plenty...</td>\n      <td>My Place is situated in the Belgravia area in ...</td>\n      <td>none</td>\n      <td>172140241</td>\n      <td>2018-02-07</td>\n      <td>GB</td>\n      <td>within an hour</td>\n      <td>100.0</td>\n      <td>...</td>\n      <td>0</td>\n      <td>2</td>\n      <td>0</td>\n      <td>11.50</td>\n      <td>23158183.0</td>\n      <td>556761725.0</td>\n      <td>2019-10-30</td>\n      <td>86102616.0</td>\n      <td>Alex</td>\n      <td>Great location! Small room but perfect for pri...</td>\n    </tr>\n    <tr>\n      <th>1146439</th>\n      <td>23158183</td>\n      <td>2019-11-06</td>\n      <td>The space Situated in the basement with plenty...</td>\n      <td>My Place is situated in the Belgravia area in ...</td>\n      <td>none</td>\n      <td>172140241</td>\n      <td>2018-02-07</td>\n      <td>GB</td>\n      <td>within an hour</td>\n      <td>100.0</td>\n      <td>...</td>\n      <td>0</td>\n      <td>2</td>\n      <td>0</td>\n      <td>11.50</td>\n      <td>23158183.0</td>\n      <td>557566331.0</td>\n      <td>2019-11-01</td>\n      <td>150278380.0</td>\n      <td>Ludivine</td>\n      <td>Pour le rapport qualité prix il ne faut pas s’...</td>\n    </tr>\n    <tr>\n      <th>1146440</th>\n      <td>23158183</td>\n      <td>2019-11-06</td>\n      <td>The space Situated in the basement with plenty...</td>\n      <td>My Place is situated in the Belgravia area in ...</td>\n      <td>none</td>\n      <td>172140241</td>\n      <td>2018-02-07</td>\n      <td>GB</td>\n      <td>within an hour</td>\n      <td>100.0</td>\n      <td>...</td>\n      <td>0</td>\n      <td>2</td>\n      <td>0</td>\n      <td>11.50</td>\n      <td>23158183.0</td>\n      <td>559535993.0</td>\n      <td>2019-11-04</td>\n      <td>220919566.0</td>\n      <td>Sam</td>\n      <td>Awsome location</td>\n    </tr>\n  </tbody>\n</table>\n<p>127060 rows × 70 columns</p>\n</div>"
     },
     "execution_count": 23,
     "metadata": {},
     "output_type": "execute_result"
    }
   ],
   "source": [
    "combined_df[combined_df.listing_id.isin(top_150.index)]"
   ],
   "metadata": {
    "collapsed": false,
    "ExecuteTime": {
     "end_time": "2023-10-23T12:03:44.172092Z",
     "start_time": "2023-10-23T12:03:43.238855Z"
    }
   }
  },
  {
   "cell_type": "code",
   "execution_count": 24,
   "outputs": [
    {
     "data": {
      "text/plain": "<Axes: >"
     },
     "execution_count": 24,
     "metadata": {},
     "output_type": "execute_result"
    },
    {
     "data": {
      "text/plain": "<Figure size 640x480 with 1 Axes>",
      "image/png": "[encoded data removed]"
     },
     "metadata": {},
     "output_type": "display_data"
    }
   ],
   "source": [
    "sampled_df = combined_df[combined_df.listing_id.isin(top_150.index)].copy()\n",
    "sampled_df.groupby('listing_id')['reviewer_id'].count().hist()"
   ],
   "metadata": {
    "collapsed": false,
    "ExecuteTime": {
     "end_time": "2023-10-23T12:03:44.603343Z",
     "start_time": "2023-10-23T12:03:44.217834Z"
    }
   }
  },
  {
   "cell_type": "code",
   "execution_count": 25,
   "outputs": [],
   "source": [
    "combined_df['comments'] = combined_df['comments'].astype(str)"
   ],
   "metadata": {
    "collapsed": false,
    "ExecuteTime": {
     "end_time": "2023-10-23T12:03:44.987501Z",
     "start_time": "2023-10-23T12:03:44.603002Z"
    }
   }
  },
  {
   "cell_type": "code",
   "execution_count": 26,
   "outputs": [],
   "source": [
    "import re\n",
    "def clean_strings(input_string):\n",
    "    input_string = re.sub(r'[^\\x00-\\x7f]',r' ',input_string)\n",
    "    input_string = re.sub(r'.*\\/[a-zA-Z]',r'', input_string)\n",
    "    input_string = re.sub(r'.*\\\\\\[a-zA-Z]',r'', input_string)\n",
    "    input_string = re.sub(r'[^a-zA-Z0-9\\s]', '', input_string)\n",
    "    return input_string"
   ],
   "metadata": {
    "collapsed": false,
    "ExecuteTime": {
     "end_time": "2023-10-23T12:03:44.992982Z",
     "start_time": "2023-10-23T12:03:44.990602Z"
    }
   }
  },
  {
   "cell_type": "code",
   "execution_count": 27,
   "outputs": [],
   "source": [
    "from langdetect import detect\n",
    "\n",
    "def detect_language(input_string):\n",
    "    try:\n",
    "        lang = detect(input_string)\n",
    "    except Exception as e:\n",
    "        lang = 'NA'\n",
    "\n",
    "    return lang"
   ],
   "metadata": {
    "collapsed": false,
    "ExecuteTime": {
     "end_time": "2023-10-23T12:03:45.002559Z",
     "start_time": "2023-10-23T12:03:44.994563Z"
    }
   }
  },
  {
   "cell_type": "markdown",
   "source": [
    "### Trying to detect english language comments and filter them out"
   ],
   "metadata": {
    "collapsed": false
   }
  },
  {
   "cell_type": "code",
   "execution_count": 28,
   "outputs": [
    {
     "name": "stdout",
     "output_type": "stream",
     "text": [
      "CPU times: user 3min 22s, sys: 1.98 s, total: 3min 24s\n",
      "Wall time: 3min 32s\n"
     ]
    }
   ],
   "source": [
    "%%time\n",
    "sampled_df['detected_language'] = sampled_df['comments'].apply(lambda row: detect_language(row))"
   ],
   "metadata": {
    "collapsed": false,
    "ExecuteTime": {
     "end_time": "2023-10-23T12:07:17.356476Z",
     "start_time": "2023-10-23T12:03:45.004016Z"
    }
   }
  },
  {
   "cell_type": "code",
   "execution_count": 29,
   "outputs": [
    {
     "data": {
      "text/plain": "<Axes: >"
     },
     "execution_count": 29,
     "metadata": {},
     "output_type": "execute_result"
    },
    {
     "data": {
      "text/plain": "<Figure size 640x480 with 1 Axes>",
      "image/png": "[encoded data removed]"
     },
     "metadata": {},
     "output_type": "display_data"
    }
   ],
   "source": [
    "sampled_df.detected_language.value_counts().plot(kind='bar')"
   ],
   "metadata": {
    "collapsed": false,
    "ExecuteTime": {
     "end_time": "2023-10-23T12:07:17.545507Z",
     "start_time": "2023-10-23T12:07:17.369371Z"
    }
   }
  },
  {
   "cell_type": "code",
   "execution_count": 30,
   "outputs": [
    {
     "data": {
      "text/plain": "(107657, 71)"
     },
     "execution_count": 30,
     "metadata": {},
     "output_type": "execute_result"
    }
   ],
   "source": [
    "english_df = sampled_df[sampled_df['detected_language']=='en'].copy()\n",
    "english_df.shape"
   ],
   "metadata": {
    "collapsed": false,
    "ExecuteTime": {
     "end_time": "2023-10-23T12:07:17.639891Z",
     "start_time": "2023-10-23T12:07:17.550626Z"
    }
   }
  },
  {
   "cell_type": "markdown",
   "source": [
    "### Applied a few string cleaning process to derive sentiments"
   ],
   "metadata": {
    "collapsed": false
   }
  },
  {
   "cell_type": "code",
   "execution_count": 31,
   "outputs": [
    {
     "name": "stdout",
     "output_type": "stream",
     "text": [
      "CPU times: user 9.74 s, sys: 40.2 ms, total: 9.78 s\n",
      "Wall time: 9.76 s\n"
     ]
    }
   ],
   "source": [
    "%%time\n",
    "english_df['cleaned_comments'] = english_df.comments.apply(lambda row: clean_strings(row))"
   ],
   "metadata": {
    "collapsed": false,
    "ExecuteTime": {
     "end_time": "2023-10-23T12:07:27.405519Z",
     "start_time": "2023-10-23T12:07:17.654298Z"
    }
   }
  },
  {
   "cell_type": "code",
   "execution_count": 32,
   "outputs": [
    {
     "data": {
      "text/plain": "                                          cleaned_comments  \\\n342      it was all in all the perfect week\\r\\nchilton ...   \n343      Ill start with the host and then move on to th...   \n344      Great location Plenty to do just steps outside...   \n345      Great location perfect place and size for my b...   \n346      Highly recommended  Perfect location  around t...   \n...                                                    ...   \n1146429  Pros quiet pleasant area Clean comfy\\nCons sha...   \n1146430  Cozy room and super convenient checkin just be...   \n1146436         A very affordable place in a good location   \n1146438  Great location Small room but perfect for pric...   \n1146440                                    Awsome location   \n\n                                                  comments  \n342      it was all in all the perfect week!\\r\\nchilton...  \n343      I'll start with the host, and then move on to ...  \n344      Great location. Plenty to do just steps outsid...  \n345      Great location, perfect place and size for my ...  \n346      Highly recommended.  Perfect location -- aroun...  \n...                                                    ...  \n1146429  Pros: quiet, pleasant area. Clean, comfy.\\nCon...  \n1146430  Cozy room and super convenient check-in, just ...  \n1146436        A very affordable place in a good location.  \n1146438  Great location! Small room but perfect for pri...  \n1146440                                    Awsome location  \n\n[107657 rows x 2 columns]",
      "text/html": "<div>\n<style scoped>\n    .dataframe tbody tr th:only-of-type {\n        vertical-align: middle;\n    }\n\n    .dataframe tbody tr th {\n        vertical-align: top;\n    }\n\n    .dataframe thead th {\n        text-align: right;\n    }\n</style>\n<table border=\"1\" class=\"dataframe\">\n  <thead>\n    <tr style=\"text-align: right;\">\n      <th></th>\n      <th>cleaned_comments</th>\n      <th>comments</th>\n    </tr>\n  </thead>\n  <tbody>\n    <tr>\n      <th>342</th>\n      <td>it was all in all the perfect week\\r\\nchilton ...</td>\n      <td>it was all in all the perfect week!\\r\\nchilton...</td>\n    </tr>\n    <tr>\n      <th>343</th>\n      <td>Ill start with the host and then move on to th...</td>\n      <td>I'll start with the host, and then move on to ...</td>\n    </tr>\n    <tr>\n      <th>344</th>\n      <td>Great location Plenty to do just steps outside...</td>\n      <td>Great location. Plenty to do just steps outsid...</td>\n    </tr>\n    <tr>\n      <th>345</th>\n      <td>Great location perfect place and size for my b...</td>\n      <td>Great location, perfect place and size for my ...</td>\n    </tr>\n    <tr>\n      <th>346</th>\n      <td>Highly recommended  Perfect location  around t...</td>\n      <td>Highly recommended.  Perfect location -- aroun...</td>\n    </tr>\n    <tr>\n      <th>...</th>\n      <td>...</td>\n      <td>...</td>\n    </tr>\n    <tr>\n      <th>1146429</th>\n      <td>Pros quiet pleasant area Clean comfy\\nCons sha...</td>\n      <td>Pros: quiet, pleasant area. Clean, comfy.\\nCon...</td>\n    </tr>\n    <tr>\n      <th>1146430</th>\n      <td>Cozy room and super convenient checkin just be...</td>\n      <td>Cozy room and super convenient check-in, just ...</td>\n    </tr>\n    <tr>\n      <th>1146436</th>\n      <td>A very affordable place in a good location</td>\n      <td>A very affordable place in a good location.</td>\n    </tr>\n    <tr>\n      <th>1146438</th>\n      <td>Great location Small room but perfect for pric...</td>\n      <td>Great location! Small room but perfect for pri...</td>\n    </tr>\n    <tr>\n      <th>1146440</th>\n      <td>Awsome location</td>\n      <td>Awsome location</td>\n    </tr>\n  </tbody>\n</table>\n<p>107657 rows × 2 columns</p>\n</div>"
     },
     "execution_count": 32,
     "metadata": {},
     "output_type": "execute_result"
    }
   ],
   "source": [
    "english_df[['cleaned_comments','comments']]"
   ],
   "metadata": {
    "collapsed": false,
    "ExecuteTime": {
     "end_time": "2023-10-23T12:07:27.438792Z",
     "start_time": "2023-10-23T12:07:27.406806Z"
    }
   }
  },
  {
   "cell_type": "code",
   "execution_count": 33,
   "outputs": [
    {
     "name": "stderr",
     "output_type": "stream",
     "text": [
      "[nltk_data] Downloading package vader_lexicon to\n",
      "[nltk_data]     /Users/kazi/nltk_data...\n",
      "[nltk_data]   Package vader_lexicon is already up-to-date!\n"
     ]
    },
    {
     "data": {
      "text/plain": "True"
     },
     "execution_count": 33,
     "metadata": {},
     "output_type": "execute_result"
    }
   ],
   "source": [
    "import nltk\n",
    "nltk.download('vader_lexicon')"
   ],
   "metadata": {
    "collapsed": false,
    "ExecuteTime": {
     "end_time": "2023-10-23T12:07:28.008049Z",
     "start_time": "2023-10-23T12:07:27.438622Z"
    }
   }
  },
  {
   "cell_type": "code",
   "execution_count": 34,
   "outputs": [],
   "source": [
    "from nltk.sentiment.vader import SentimentIntensityAnalyzer as SIA"
   ],
   "metadata": {
    "collapsed": false,
    "ExecuteTime": {
     "end_time": "2023-10-23T12:07:28.011716Z",
     "start_time": "2023-10-23T12:07:28.008773Z"
    }
   }
  },
  {
   "cell_type": "code",
   "execution_count": 35,
   "outputs": [],
   "source": [
    "def get_sentiment(input_string):\n",
    "    score = SIA().polarity_scores(input_string)\n",
    "    return score['compound']"
   ],
   "metadata": {
    "collapsed": false,
    "ExecuteTime": {
     "end_time": "2023-10-23T12:07:28.013884Z",
     "start_time": "2023-10-23T12:07:28.012733Z"
    }
   }
  },
  {
   "cell_type": "code",
   "execution_count": 36,
   "outputs": [],
   "source": [
    "SENTIMENT_DIR = '../sentiment_ops'\n",
    "\n",
    "if  not os.path.exists(SENTIMENT_DIR):\n",
    "    os.makedirs(SENTIMENT_DIR)"
   ],
   "metadata": {
    "collapsed": false,
    "ExecuteTime": {
     "end_time": "2023-10-23T12:07:28.015921Z",
     "start_time": "2023-10-23T12:07:28.014674Z"
    }
   }
  },
  {
   "cell_type": "code",
   "execution_count": 37,
   "outputs": [],
   "source": [
    "import os\n",
    "vader_sentiment_list_file = os.path.join(SENTIMENT_DIR, 'airbnb-sentiment.pkl')"
   ],
   "metadata": {
    "collapsed": false,
    "ExecuteTime": {
     "end_time": "2023-10-23T12:07:28.017668Z",
     "start_time": "2023-10-23T12:07:28.016730Z"
    }
   }
  },
  {
   "cell_type": "code",
   "execution_count": 38,
   "outputs": [
    {
     "name": "stdout",
     "output_type": "stream",
     "text": [
      "Delete existing file\n",
      "Generating new vadar sentiments\n",
      "Saved in directory ../sentiment_ops/airbnb-sentiment.pkl\n",
      "CPU times: user 4min 43s, sys: 750 ms, total: 4min 43s\n",
      "Wall time: 4min 44s\n"
     ]
    }
   ],
   "source": [
    "%%time\n",
    "if os.path.isfile(vader_sentiment_list_file):\n",
    "    print('Delete existing file')\n",
    "    os.remove(vader_sentiment_list_file)\n",
    "\n",
    "print('Generating new vadar sentiments')\n",
    "vader_sentiment_list = english_df['cleaned_comments'].apply(lambda x: get_sentiment(x))\n",
    "vader_sentiment_list.to_pickle(vader_sentiment_list_file)\n",
    "print(f'Saved in directory {vader_sentiment_list_file}')"
   ],
   "metadata": {
    "collapsed": false,
    "ExecuteTime": {
     "end_time": "2023-10-23T12:12:12.375876Z",
     "start_time": "2023-10-23T12:07:28.019006Z"
    }
   }
  },
  {
   "cell_type": "code",
   "execution_count": 39,
   "outputs": [],
   "source": [
    "english_df['vader_sentiment_score'] = vader_sentiment_list"
   ],
   "metadata": {
    "collapsed": false,
    "ExecuteTime": {
     "end_time": "2023-10-23T12:12:12.377948Z",
     "start_time": "2023-10-23T12:12:12.375165Z"
    }
   }
  },
  {
   "cell_type": "code",
   "execution_count": 40,
   "outputs": [],
   "source": [
    "from sklearn.preprocessing import MinMaxScaler"
   ],
   "metadata": {
    "collapsed": false,
    "ExecuteTime": {
     "end_time": "2023-10-23T12:12:12.379987Z",
     "start_time": "2023-10-23T12:12:12.378574Z"
    }
   }
  },
  {
   "cell_type": "markdown",
   "source": [
    "### Ensuring the sentiments_score range between 0 and 1"
   ],
   "metadata": {
    "collapsed": false
   }
  },
  {
   "cell_type": "code",
   "execution_count": 41,
   "outputs": [],
   "source": [
    "scaler = MinMaxScaler()\n",
    "scaler.fit(english_df[['vader_sentiment_score']])\n",
    "english_df['sentiment_score'] = scaler.transform(english_df[['vader_sentiment_score']])"
   ],
   "metadata": {
    "collapsed": false,
    "ExecuteTime": {
     "end_time": "2023-10-23T12:12:12.389759Z",
     "start_time": "2023-10-23T12:12:12.381130Z"
    }
   }
  },
  {
   "cell_type": "code",
   "execution_count": 42,
   "outputs": [],
   "source": [
    "english_df['sentiment_score_perc'] = np.ceil(english_df['sentiment_score'] * 100).astype(int)"
   ],
   "metadata": {
    "collapsed": false,
    "ExecuteTime": {
     "end_time": "2023-10-23T12:12:12.392919Z",
     "start_time": "2023-10-23T12:12:12.390702Z"
    }
   }
  },
  {
   "cell_type": "code",
   "execution_count": 43,
   "outputs": [],
   "source": [
    "list_user_info = english_df[['listing_id','reviewer_id','sentiment_score']].copy()"
   ],
   "metadata": {
    "collapsed": false,
    "ExecuteTime": {
     "end_time": "2023-10-23T12:12:12.409758Z",
     "start_time": "2023-10-23T12:12:12.394040Z"
    }
   }
  },
  {
   "cell_type": "code",
   "execution_count": 44,
   "outputs": [
    {
     "name": "stdout",
     "output_type": "stream",
     "text": [
      "CPU times: user 280 ms, sys: 155 ms, total: 434 ms\n",
      "Wall time: 489 ms\n"
     ]
    }
   ],
   "source": [
    "%%time\n",
    "user_list_matrix = list_user_info.pivot_table(index = [\"reviewer_id\"],columns = [\"listing_id\"],values = \"sentiment_score\")\n"
   ],
   "metadata": {
    "collapsed": false,
    "ExecuteTime": {
     "end_time": "2023-10-23T12:12:12.895193Z",
     "start_time": "2023-10-23T12:12:12.404548Z"
    }
   }
  },
  {
   "cell_type": "code",
   "execution_count": 45,
   "outputs": [],
   "source": [
    "user_list_matrix.fillna(0,inplace=True)"
   ],
   "metadata": {
    "collapsed": false,
    "ExecuteTime": {
     "end_time": "2023-10-23T12:12:13.214712Z",
     "start_time": "2023-10-23T12:12:12.895605Z"
    }
   }
  },
  {
   "cell_type": "markdown",
   "source": [
    "### Visualising the sparsity of the matrix"
   ],
   "metadata": {
    "collapsed": false
   }
  },
  {
   "cell_type": "code",
   "execution_count": 46,
   "outputs": [
    {
     "data": {
      "text/plain": "<Axes: xlabel='listing_id', ylabel='reviewer_id'>"
     },
     "execution_count": 46,
     "metadata": {},
     "output_type": "execute_result"
    },
    {
     "data": {
      "text/plain": "<Figure size 640x480 with 2 Axes>",
      "image/png": "[encoded data removed]"
     },
     "metadata": {},
     "output_type": "display_data"
    }
   ],
   "source": [
    "sns.heatmap(user_list_matrix, cmap=\"YlGnBu\")"
   ],
   "metadata": {
    "collapsed": false,
    "ExecuteTime": {
     "end_time": "2023-10-23T12:12:35.858342Z",
     "start_time": "2023-10-23T12:12:13.215990Z"
    }
   }
  },
  {
   "cell_type": "markdown",
   "source": [
    "### Let's look at a property that was visited and see how the similar properties are suggested"
   ],
   "metadata": {
    "collapsed": false
   }
  },
  {
   "cell_type": "code",
   "execution_count": 47,
   "outputs": [],
   "source": [
    "visited_list_id = 1013117"
   ],
   "metadata": {
    "collapsed": false,
    "ExecuteTime": {
     "end_time": "2023-10-23T12:12:35.858845Z",
     "start_time": "2023-10-23T12:12:35.857771Z"
    }
   }
  },
  {
   "cell_type": "code",
   "execution_count": 48,
   "outputs": [
    {
     "data": {
      "text/plain": "listing_id   36660.0     38605.0     42010.0     47192.0     52940.0     \\\nreviewer_id                                                               \n1432.0         0.000000         0.0         0.0         0.0         0.0   \n1510.0         0.000000         0.0         0.0         0.0         0.0   \n2723.0         0.000000         0.0         0.0         0.0         0.0   \n2735.0         0.936765         0.0         0.0         0.0         0.0   \n2881.0         0.000000         0.0         0.0         0.0         0.0   \n...                 ...         ...         ...         ...         ...   \n304032353.0    0.000000         0.0         0.0         0.0         0.0   \n304337829.0    0.000000         0.0         0.0         0.0         0.0   \n304876906.0    0.000000         0.0         0.0         0.0         0.0   \n304895263.0    0.000000         0.0         0.0         0.0         0.0   \n305525849.0    0.000000         0.0         0.0         0.0         0.0   \n\nlisting_id   64429.0     84223.0     85191.0     90700.0     97178.0     ...  \\\nreviewer_id                                                              ...   \n1432.0              0.0         0.0         0.0         0.0         0.0  ...   \n1510.0              0.0         0.0         0.0         0.0         0.0  ...   \n2723.0              0.0         0.0         0.0         0.0         0.0  ...   \n2735.0              0.0         0.0         0.0         0.0         0.0  ...   \n2881.0              0.0         0.0         0.0         0.0         0.0  ...   \n...                 ...         ...         ...         ...         ...  ...   \n304032353.0         0.0         0.0         0.0         0.0         0.0  ...   \n304337829.0         0.0         0.0         0.0         0.0         0.0  ...   \n304876906.0         0.0         0.0         0.0         0.0         0.0  ...   \n304895263.0         0.0         0.0         0.0         0.0         0.0  ...   \n305525849.0         0.0         0.0         0.0         0.0         0.0  ...   \n\nlisting_id   20149495.0  20264430.0  20437035.0  20704116.0  21108020.0  \\\nreviewer_id                                                               \n1432.0              0.0     0.00000         0.0         0.0         0.0   \n1510.0              0.0     0.90352         0.0         0.0         0.0   \n2723.0              0.0     0.00000         0.0         0.0         0.0   \n2735.0              0.0     0.00000         0.0         0.0         0.0   \n2881.0              0.0     0.00000         0.0         0.0         0.0   \n...                 ...         ...         ...         ...         ...   \n304032353.0         0.0     0.00000         0.0         0.0         0.0   \n304337829.0         0.0     0.00000         0.0         0.0         0.0   \n304876906.0         0.0     0.00000         0.0         0.0         0.0   \n304895263.0         0.0     0.00000         0.0         0.0         0.0   \n305525849.0         0.0     0.00000         0.0         0.0         0.0   \n\nlisting_id   21391504.0  21438138.0  22142153.0  23020112.0  23158183.0  \nreviewer_id                                                              \n1432.0              0.0         0.0         0.0         0.0         0.0  \n1510.0              0.0         0.0         0.0         0.0         0.0  \n2723.0              0.0         0.0         0.0         0.0         0.0  \n2735.0              0.0         0.0         0.0         0.0         0.0  \n2881.0              0.0         0.0         0.0         0.0         0.0  \n...                 ...         ...         ...         ...         ...  \n304032353.0         0.0         0.0         0.0         0.0         0.0  \n304337829.0         0.0         0.0         0.0         0.0         0.0  \n304876906.0         0.0         0.0         0.0         0.0         0.0  \n304895263.0         0.0         0.0         0.0         0.0         0.0  \n305525849.0         0.0         0.0         0.0         0.0         0.0  \n\n[100412 rows x 400 columns]",
      "text/html": "<div>\n<style scoped>\n    .dataframe tbody tr th:only-of-type {\n        vertical-align: middle;\n    }\n\n    .dataframe tbody tr th {\n        vertical-align: top;\n    }\n\n    .dataframe thead th {\n        text-align: right;\n    }\n</style>\n<table border=\"1\" class=\"dataframe\">\n  <thead>\n    <tr style=\"text-align: right;\">\n      <th>listing_id</th>\n      <th>36660.0</th>\n      <th>38605.0</th>\n      <th>42010.0</th>\n      <th>47192.0</th>\n      <th>52940.0</th>\n      <th>64429.0</th>\n      <th>84223.0</th>\n      <th>85191.0</th>\n      <th>90700.0</th>\n      <th>97178.0</th>\n      <th>...</th>\n      <th>20149495.0</th>\n      <th>20264430.0</th>\n      <th>20437035.0</th>\n      <th>20704116.0</th>\n      <th>21108020.0</th>\n      <th>21391504.0</th>\n      <th>21438138.0</th>\n      <th>22142153.0</th>\n      <th>23020112.0</th>\n      <th>23158183.0</th>\n    </tr>\n    <tr>\n      <th>reviewer_id</th>\n      <th></th>\n      <th></th>\n      <th></th>\n      <th></th>\n      <th></th>\n      <th></th>\n      <th></th>\n      <th></th>\n      <th></th>\n      <th></th>\n      <th></th>\n      <th></th>\n      <th></th>\n      <th></th>\n      <th></th>\n      <th></th>\n      <th></th>\n      <th></th>\n      <th></th>\n      <th></th>\n      <th></th>\n    </tr>\n  </thead>\n  <tbody>\n    <tr>\n      <th>1432.0</th>\n      <td>0.000000</td>\n      <td>0.0</td>\n      <td>0.0</td>\n      <td>0.0</td>\n      <td>0.0</td>\n      <td>0.0</td>\n      <td>0.0</td>\n      <td>0.0</td>\n      <td>0.0</td>\n      <td>0.0</td>\n      <td>...</td>\n      <td>0.0</td>\n      <td>0.00000</td>\n      <td>0.0</td>\n      <td>0.0</td>\n      <td>0.0</td>\n      <td>0.0</td>\n      <td>0.0</td>\n      <td>0.0</td>\n      <td>0.0</td>\n      <td>0.0</td>\n    </tr>\n    <tr>\n      <th>1510.0</th>\n      <td>0.000000</td>\n      <td>0.0</td>\n      <td>0.0</td>\n      <td>0.0</td>\n      <td>0.0</td>\n      <td>0.0</td>\n      <td>0.0</td>\n      <td>0.0</td>\n      <td>0.0</td>\n      <td>0.0</td>\n      <td>...</td>\n      <td>0.0</td>\n      <td>0.90352</td>\n      <td>0.0</td>\n      <td>0.0</td>\n      <td>0.0</td>\n      <td>0.0</td>\n      <td>0.0</td>\n      <td>0.0</td>\n      <td>0.0</td>\n      <td>0.0</td>\n    </tr>\n    <tr>\n      <th>2723.0</th>\n      <td>0.000000</td>\n      <td>0.0</td>\n      <td>0.0</td>\n      <td>0.0</td>\n      <td>0.0</td>\n      <td>0.0</td>\n      <td>0.0</td>\n      <td>0.0</td>\n      <td>0.0</td>\n      <td>0.0</td>\n      <td>...</td>\n      <td>0.0</td>\n      <td>0.00000</td>\n      <td>0.0</td>\n      <td>0.0</td>\n      <td>0.0</td>\n      <td>0.0</td>\n      <td>0.0</td>\n      <td>0.0</td>\n      <td>0.0</td>\n      <td>0.0</td>\n    </tr>\n    <tr>\n      <th>2735.0</th>\n      <td>0.936765</td>\n      <td>0.0</td>\n      <td>0.0</td>\n      <td>0.0</td>\n      <td>0.0</td>\n      <td>0.0</td>\n      <td>0.0</td>\n      <td>0.0</td>\n      <td>0.0</td>\n      <td>0.0</td>\n      <td>...</td>\n      <td>0.0</td>\n      <td>0.00000</td>\n      <td>0.0</td>\n      <td>0.0</td>\n      <td>0.0</td>\n      <td>0.0</td>\n      <td>0.0</td>\n      <td>0.0</td>\n      <td>0.0</td>\n      <td>0.0</td>\n    </tr>\n    <tr>\n      <th>2881.0</th>\n      <td>0.000000</td>\n      <td>0.0</td>\n      <td>0.0</td>\n      <td>0.0</td>\n      <td>0.0</td>\n      <td>0.0</td>\n      <td>0.0</td>\n      <td>0.0</td>\n      <td>0.0</td>\n      <td>0.0</td>\n      <td>...</td>\n      <td>0.0</td>\n      <td>0.00000</td>\n      <td>0.0</td>\n      <td>0.0</td>\n      <td>0.0</td>\n      <td>0.0</td>\n      <td>0.0</td>\n      <td>0.0</td>\n      <td>0.0</td>\n      <td>0.0</td>\n    </tr>\n    <tr>\n      <th>...</th>\n      <td>...</td>\n      <td>...</td>\n      <td>...</td>\n      <td>...</td>\n      <td>...</td>\n      <td>...</td>\n      <td>...</td>\n      <td>...</td>\n      <td>...</td>\n      <td>...</td>\n      <td>...</td>\n      <td>...</td>\n      <td>...</td>\n      <td>...</td>\n      <td>...</td>\n      <td>...</td>\n      <td>...</td>\n      <td>...</td>\n      <td>...</td>\n      <td>...</td>\n      <td>...</td>\n    </tr>\n    <tr>\n      <th>304032353.0</th>\n      <td>0.000000</td>\n      <td>0.0</td>\n      <td>0.0</td>\n      <td>0.0</td>\n      <td>0.0</td>\n      <td>0.0</td>\n      <td>0.0</td>\n      <td>0.0</td>\n      <td>0.0</td>\n      <td>0.0</td>\n      <td>...</td>\n      <td>0.0</td>\n      <td>0.00000</td>\n      <td>0.0</td>\n      <td>0.0</td>\n      <td>0.0</td>\n      <td>0.0</td>\n      <td>0.0</td>\n      <td>0.0</td>\n      <td>0.0</td>\n      <td>0.0</td>\n    </tr>\n    <tr>\n      <th>304337829.0</th>\n      <td>0.000000</td>\n      <td>0.0</td>\n      <td>0.0</td>\n      <td>0.0</td>\n      <td>0.0</td>\n      <td>0.0</td>\n      <td>0.0</td>\n      <td>0.0</td>\n      <td>0.0</td>\n      <td>0.0</td>\n      <td>...</td>\n      <td>0.0</td>\n      <td>0.00000</td>\n      <td>0.0</td>\n      <td>0.0</td>\n      <td>0.0</td>\n      <td>0.0</td>\n      <td>0.0</td>\n      <td>0.0</td>\n      <td>0.0</td>\n      <td>0.0</td>\n    </tr>\n    <tr>\n      <th>304876906.0</th>\n      <td>0.000000</td>\n      <td>0.0</td>\n      <td>0.0</td>\n      <td>0.0</td>\n      <td>0.0</td>\n      <td>0.0</td>\n      <td>0.0</td>\n      <td>0.0</td>\n      <td>0.0</td>\n      <td>0.0</td>\n      <td>...</td>\n      <td>0.0</td>\n      <td>0.00000</td>\n      <td>0.0</td>\n      <td>0.0</td>\n      <td>0.0</td>\n      <td>0.0</td>\n      <td>0.0</td>\n      <td>0.0</td>\n      <td>0.0</td>\n      <td>0.0</td>\n    </tr>\n    <tr>\n      <th>304895263.0</th>\n      <td>0.000000</td>\n      <td>0.0</td>\n      <td>0.0</td>\n      <td>0.0</td>\n      <td>0.0</td>\n      <td>0.0</td>\n      <td>0.0</td>\n      <td>0.0</td>\n      <td>0.0</td>\n      <td>0.0</td>\n      <td>...</td>\n      <td>0.0</td>\n      <td>0.00000</td>\n      <td>0.0</td>\n      <td>0.0</td>\n      <td>0.0</td>\n      <td>0.0</td>\n      <td>0.0</td>\n      <td>0.0</td>\n      <td>0.0</td>\n      <td>0.0</td>\n    </tr>\n    <tr>\n      <th>305525849.0</th>\n      <td>0.000000</td>\n      <td>0.0</td>\n      <td>0.0</td>\n      <td>0.0</td>\n      <td>0.0</td>\n      <td>0.0</td>\n      <td>0.0</td>\n      <td>0.0</td>\n      <td>0.0</td>\n      <td>0.0</td>\n      <td>...</td>\n      <td>0.0</td>\n      <td>0.00000</td>\n      <td>0.0</td>\n      <td>0.0</td>\n      <td>0.0</td>\n      <td>0.0</td>\n      <td>0.0</td>\n      <td>0.0</td>\n      <td>0.0</td>\n      <td>0.0</td>\n    </tr>\n  </tbody>\n</table>\n<p>100412 rows × 400 columns</p>\n</div>"
     },
     "execution_count": 48,
     "metadata": {},
     "output_type": "execute_result"
    }
   ],
   "source": [
    "user_list_matrix"
   ],
   "metadata": {
    "collapsed": false,
    "ExecuteTime": {
     "end_time": "2023-10-23T12:12:35.877169Z",
     "start_time": "2023-10-23T12:12:35.860218Z"
    }
   }
  },
  {
   "cell_type": "code",
   "execution_count": 49,
   "outputs": [
    {
     "name": "stdout",
     "output_type": "stream",
     "text": [
      "CPU times: user 223 ms, sys: 40.8 ms, total: 263 ms\n",
      "Wall time: 263 ms\n"
     ]
    }
   ],
   "source": [
    "%%time\n",
    "similar_id_scores  = user_list_matrix.corrwith(user_list_matrix[visited_list_id ])"
   ],
   "metadata": {
    "collapsed": false,
    "ExecuteTime": {
     "end_time": "2023-10-23T12:12:36.142976Z",
     "start_time": "2023-10-23T12:12:35.878391Z"
    }
   }
  },
  {
   "cell_type": "code",
   "execution_count": 50,
   "outputs": [
    {
     "data": {
      "text/plain": "listing_id\n1013117.0     1.000000\n2761866.0     0.002389\n3708776.0     0.002159\n13975451.0    0.001716\n391392.0      0.001707\n392045.0      0.001395\n970701.0      0.001252\n632672.0      0.000807\n877864.0     -0.000408\n388767.0     -0.000535\ndtype: float64"
     },
     "execution_count": 50,
     "metadata": {},
     "output_type": "execute_result"
    }
   ],
   "source": [
    "top = 10\n",
    "similar_id_scores.sort_values(ascending=False).head(top)"
   ],
   "metadata": {
    "collapsed": false,
    "ExecuteTime": {
     "end_time": "2023-10-23T12:12:36.146644Z",
     "start_time": "2023-10-23T12:12:36.143624Z"
    }
   }
  },
  {
   "cell_type": "markdown",
   "source": [
    "### Counting reviews of the people who stayed in the selected listed place to find out their other listed stays for comparison"
   ],
   "metadata": {
    "collapsed": false
   }
  },
  {
   "cell_type": "code",
   "execution_count": 51,
   "outputs": [],
   "source": [
    "review_counts = reviews_df[reviews_df.reviewer_id.isin(\n",
    "                    reviews_df[reviews_df.listing_id==visited_list_id].reviewer_id.to_list()\n",
    ")].groupby('reviewer_id')['listing_id'].count()"
   ],
   "metadata": {
    "collapsed": false,
    "ExecuteTime": {
     "end_time": "2023-10-23T12:12:36.180297Z",
     "start_time": "2023-10-23T12:12:36.149797Z"
    }
   }
  },
  {
   "cell_type": "markdown",
   "source": [
    "### For all the people who had more than one reviews, the top 10 recall metrics is calculated for each of them"
   ],
   "metadata": {
    "collapsed": false
   }
  },
  {
   "cell_type": "code",
   "execution_count": 52,
   "outputs": [],
   "source": [
    "availability = {}\n",
    "for reviewer in review_counts[review_counts>1].index:\n",
    "    is_available = reviews_df[reviews_df.reviewer_id==reviewer].listing_id.isin(similar_id_scores.sort_values(ascending=False).head(top).index).sum()\n",
    "    availability[reviewer] = is_available"
   ],
   "metadata": {
    "collapsed": false,
    "ExecuteTime": {
     "end_time": "2023-10-23T12:12:36.215316Z",
     "start_time": "2023-10-23T12:12:36.181896Z"
    }
   }
  },
  {
   "cell_type": "code",
   "execution_count": 53,
   "outputs": [],
   "source": [
    "availability_df = pd.DataFrame(availability,index=['topKrecall']).T"
   ],
   "metadata": {
    "collapsed": false,
    "ExecuteTime": {
     "end_time": "2023-10-23T12:12:36.218571Z",
     "start_time": "2023-10-23T12:12:36.217243Z"
    }
   }
  },
  {
   "cell_type": "markdown",
   "source": [
    "### Evaluation criteria"
   ],
   "metadata": {
    "collapsed": false
   }
  },
  {
   "cell_type": "code",
   "execution_count": 54,
   "outputs": [
    {
     "data": {
      "text/plain": "topKrecall    0.3125\ndtype: float64"
     },
     "execution_count": 54,
     "metadata": {},
     "output_type": "execute_result"
    }
   ],
   "source": [
    "topKrecall = (availability_df >1).sum()/len(availability_df)\n",
    "topKrecall"
   ],
   "metadata": {
    "collapsed": false,
    "ExecuteTime": {
     "end_time": "2023-10-23T12:12:36.221626Z",
     "start_time": "2023-10-23T12:12:36.219299Z"
    }
   }
  },
  {
   "cell_type": "markdown",
   "source": [
    "Around 31 % of the users had tried out the listings that was proposed by the system based on their visit to a selected listing id = 1013117"
   ],
   "metadata": {
    "collapsed": false
   }
  },
  {
   "cell_type": "code",
   "execution_count": 55,
   "outputs": [],
   "source": [
    "#TODO : Unfinished tasks"
   ],
   "metadata": {
    "collapsed": false,
    "ExecuteTime": {
     "end_time": "2023-10-23T12:12:36.223893Z",
     "start_time": "2023-10-23T12:12:36.222368Z"
    }
   }
  },
  {
   "cell_type": "markdown",
   "source": [
    "\n",
    "\n",
    "### Another approach to consider are embeddings and features\n",
    "- We can use the user embeddings\n",
    "- Listed embeddings\n",
    "- both these would be used to predict the sentiment_score\n",
    "\n",
    "### Another possible way is to use these user and user features through matrix decomposition\n"
   ],
   "metadata": {
    "collapsed": false
   }
  },
  {
   "cell_type": "code",
   "execution_count": 56,
   "outputs": [],
   "source": [
    "all_users = list_user_info['reviewer_id'].unique()\n",
    "all_listings = list_user_info['listing_id'].unique()"
   ],
   "metadata": {
    "collapsed": false,
    "ExecuteTime": {
     "end_time": "2023-10-23T12:12:36.228461Z",
     "start_time": "2023-10-23T12:12:36.224207Z"
    }
   }
  },
  {
   "cell_type": "code",
   "execution_count": 57,
   "outputs": [],
   "source": [
    "import tensorflow as tf\n",
    "\n",
    "# user pipeline\n",
    "user_input = tf.keras.layers.Input(shape=(1,), name=\"user\")\n",
    "user_as_integer = tf.keras.layers.IntegerLookup(vocabulary=all_users)(user_input)\n",
    "user_embedding = tf.keras.layers.Embedding(input_dim=len(all_users)+1, output_dim=32)(user_as_integer)\n",
    "\n",
    "# list pipeline\n",
    "list_input = tf.keras.layers.Input(shape=(1,), name=\"list\")\n",
    "list_as_integer = tf.keras.layers.IntegerLookup(vocabulary=all_listings)(list_input)\n",
    "list_embedding = tf.keras.layers.Embedding(input_dim=len(all_listings)+1, output_dim=32)(list_as_integer)\n",
    "\n",
    "# dot product\n",
    "dot = tf.keras.layers.Dot(axes=2)([user_embedding, list_embedding])\n",
    "flatten = tf.keras.layers.Flatten()(dot)\n",
    "\n",
    "# model input/output definition\n",
    "model = tf.keras.Model(inputs=[user_input, list_input], outputs=flatten)\n",
    "\n",
    "model.compile(loss=\"mse\", metrics=[tf.keras.metrics.MeanAbsoluteError()])"
   ],
   "metadata": {
    "collapsed": false,
    "ExecuteTime": {
     "end_time": "2023-10-23T12:12:40.058486Z",
     "start_time": "2023-10-23T12:12:36.230471Z"
    }
   }
  },
  {
   "cell_type": "code",
   "execution_count": 58,
   "outputs": [
    {
     "name": "stdout",
     "output_type": "stream",
     "text": [
      "Epoch 1/100\n",
      "379/379 [==============================] - 1s 3ms/step - loss: 0.5460 - mean_absolute_error: 0.6389 - val_loss: 0.7949 - val_mean_absolute_error: 0.8783\n",
      "Epoch 2/100\n",
      "379/379 [==============================] - 1s 3ms/step - loss: 0.4037 - mean_absolute_error: 0.4689 - val_loss: 0.7941 - val_mean_absolute_error: 0.8759\n",
      "Epoch 3/100\n",
      "379/379 [==============================] - 1s 3ms/step - loss: 0.3826 - mean_absolute_error: 0.4562 - val_loss: 0.7940 - val_mean_absolute_error: 0.8759\n",
      "Epoch 4/100\n",
      "379/379 [==============================] - 1s 3ms/step - loss: 0.3524 - mean_absolute_error: 0.4378 - val_loss: 0.7942 - val_mean_absolute_error: 0.8763\n"
     ]
    },
    {
     "data": {
      "text/plain": "<keras.src.callbacks.History at 0x2f2829660>"
     },
     "execution_count": 58,
     "metadata": {},
     "output_type": "execute_result"
    }
   ],
   "source": [
    "model.fit(\n",
    "    x={\n",
    "        \"user\": list_user_info['reviewer_id'].to_numpy(),\n",
    "        \"list\": list_user_info['listing_id'].to_numpy()\n",
    "    },\n",
    "    y=list_user_info['sentiment_score'],\n",
    "    batch_size=256,\n",
    "    epochs=100,\n",
    "    validation_split=0.1, # for early stopping\n",
    "    callbacks=[\n",
    "        tf.keras.callbacks.EarlyStopping(patience=1, restore_best_weights=True)\n",
    "    ],\n",
    ")"
   ],
   "metadata": {
    "collapsed": false,
    "ExecuteTime": {
     "end_time": "2023-10-23T12:12:45.203416Z",
     "start_time": "2023-10-23T12:12:40.060188Z"
    }
   }
  },
  {
   "cell_type": "code",
   "execution_count": 58,
   "outputs": [],
   "source": [],
   "metadata": {
    "collapsed": false,
    "ExecuteTime": {
     "end_time": "2023-10-23T12:12:45.204158Z",
     "start_time": "2023-10-23T12:12:45.203576Z"
    }
   }
  }
 ],
 "metadata": {
  "kernelspec": {
   "display_name": "Python 3",
   "language": "python",
   "name": "python3"
  },
  "language_info": {
   "codemirror_mode": {
    "name": "ipython",
    "version": 2
   },
   "file_extension": ".py",
   "mimetype": "text/x-python",
   "name": "python",
   "nbconvert_exporter": "python",
   "pygments_lexer": "ipython2",
   "version": "2.7.6"
  }
 },
 "nbformat": 4,
 "nbformat_minor": 0
}
